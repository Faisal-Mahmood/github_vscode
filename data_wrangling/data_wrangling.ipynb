{
 "cells": [
  {
   "cell_type": "code",
   "execution_count": 2,
   "metadata": {},
   "outputs": [],
   "source": [
    "import pandas as pd\n",
    "import numpy as np\n",
    "import seaborn as sns"
   ]
  },
  {
   "cell_type": "code",
   "execution_count": 3,
   "metadata": {},
   "outputs": [],
   "source": [
    "kashti = sns.load_dataset('titanic')\n",
    "ks1 = kashti\n",
    "ks2 = kashti\n",
    "ks = kashti"
   ]
  },
  {
   "cell_type": "code",
   "execution_count": null,
   "metadata": {},
   "outputs": [],
   "source": [
    "kashti.head()"
   ]
  },
  {
   "cell_type": "code",
   "execution_count": null,
   "metadata": {},
   "outputs": [],
   "source": [
    "# simple operations (math operator)\n",
    "(kashti['age']*6).head(10)  # we can use any number here and also (+, - , *, /)"
   ]
  },
  {
   "cell_type": "markdown",
   "metadata": {},
   "source": [
    " # Dealing with missing values:\n",
    " - In a dataset values are either ? or N/A, or NaN, O, or a blank cell.\n",
    " - Jab kabhi data no ho kisi 1 row me kisi bhi 1 paramter ka.\n",
    " > Steps:\n",
    " 1. Koshish kry dobara data collect ker len agr kahin ghalti ha.\n",
    " 2. Missing values wala variabe (column) hi nikal den agar data per effect nhi hota Ya simple row or data entry remove krdy.\n",
    " 3. Replace the missing values:\n",
    "    1. How?\n",
    "       - Average value pf entire variable or similar data point.\n",
    "       - Frequency or MODE replacrement\n",
    "       - Replace based on other fucntions (Data sampler knows that).\n",
    "       - ML algorithms can also be used\n",
    "       - Leave it as it is. \n",
    "    2. WHy?\n",
    "       - Its better because no data is lost\n",
    "       - less accurate "
   ]
  },
  {
   "cell_type": "code",
   "execution_count": null,
   "metadata": {},
   "outputs": [],
   "source": [
    "# where exactly missing values are?\n",
    "kashti.isnull().sum()"
   ]
  },
  {
   "cell_type": "code",
   "execution_count": null,
   "metadata": {},
   "outputs": [],
   "source": [
    "# use dropna method \n",
    "# kashti.shape\n",
    "kashti.dropna(subset=['deck'], axis=0, inplace=True)\n",
    "# this will remove specifially \n",
    "# inplace = true : modify the datafram"
   ]
  },
  {
   "cell_type": "code",
   "execution_count": null,
   "metadata": {},
   "outputs": [],
   "source": [
    "kashti.isnull().sum()"
   ]
  },
  {
   "cell_type": "code",
   "execution_count": null,
   "metadata": {},
   "outputs": [],
   "source": [
    "# to dropna \n",
    "kashti = kashti.dropna()\n",
    "# to update the main  datafram\n",
    "kashti.isnull().sum()"
   ]
  },
  {
   "cell_type": "code",
   "execution_count": null,
   "metadata": {},
   "outputs": [],
   "source": [
    "kashti.shape"
   ]
  },
  {
   "cell_type": "code",
   "execution_count": null,
   "metadata": {},
   "outputs": [],
   "source": [
    "ks1.isnull().sum()"
   ]
  },
  {
   "cell_type": "markdown",
   "metadata": {},
   "source": [
    "# Replace missing values with the average of that column:"
   ]
  },
  {
   "cell_type": "code",
   "execution_count": null,
   "metadata": {},
   "outputs": [],
   "source": [
    "# finding an average (mean)\n",
    "mean = ks1['age'].mean()\n",
    "mean"
   ]
  },
  {
   "cell_type": "code",
   "execution_count": null,
   "metadata": {},
   "outputs": [],
   "source": [
    "# replace NaN values with Mean of the data (updating as well)\n",
    "ks1['age'] = ks1['age'].replace(np.nan , mean)"
   ]
  },
  {
   "cell_type": "code",
   "execution_count": null,
   "metadata": {},
   "outputs": [],
   "source": [
    "ks1['embarked'] = ks1['embarked'].replace(np.nan , mean)"
   ]
  },
  {
   "cell_type": "code",
   "execution_count": null,
   "metadata": {},
   "outputs": [],
   "source": [
    "ks1['embark_town'] = ks1['embark_town'].replace(np.nan , mean)"
   ]
  },
  {
   "cell_type": "code",
   "execution_count": null,
   "metadata": {},
   "outputs": [],
   "source": [
    "ks1['deck'] = ks1['deck'].replace(np.nan , mean)\n",
    "# here its execute but not remove NaN values :"
   ]
  },
  {
   "cell_type": "code",
   "execution_count": null,
   "metadata": {},
   "outputs": [],
   "source": [
    "ks1.isnull().sum()"
   ]
  },
  {
   "cell_type": "markdown",
   "metadata": {},
   "source": [
    "# Data Formating\n",
    "- Data ko aik common standard per lana\n",
    "- Ensures data is consistent and undrestandable\n",
    "   - Easy to gather.\n",
    "   - Easy to workwith.\n",
    "   > like\n",
    "   - Faisalabad(FSD)\n",
    "   - Lahore(LHR)\n",
    "   - etc."
   ]
  },
  {
   "cell_type": "code",
   "execution_count": null,
   "metadata": {},
   "outputs": [],
   "source": [
    "# konw the data types and convert in into the known one\n",
    "kashti.dtypes"
   ]
  },
  {
   "cell_type": "code",
   "execution_count": null,
   "metadata": {},
   "outputs": [],
   "source": [
    "# converting dtypes --- one to anoter type like this:\n",
    "kashti['survived'] = kashti['survived'].astype(\"float64\")\n",
    "kashti.dtypes"
   ]
  },
  {
   "cell_type": "code",
   "execution_count": null,
   "metadata": {},
   "outputs": [],
   "source": [
    "kashti['age'] = kashti['age']*365\n",
    "kashti.head(5)"
   ]
  },
  {
   "cell_type": "code",
   "execution_count": null,
   "metadata": {},
   "outputs": [],
   "source": [
    "kashti.rename(columns={\"age\": \"age in days\"}, inplace=True)\n",
    "kashti.head(10)"
   ]
  },
  {
   "cell_type": "markdown",
   "metadata": {},
   "source": [
    "# **Data Normalization**\n",
    "- Uniform the data\n",
    "- They have same impact\n",
    "- Also for computational reasons"
   ]
  },
  {
   "cell_type": "code",
   "execution_count": null,
   "metadata": {},
   "outputs": [],
   "source": [
    "kashti = kashti[[\"age in days\", 'fare']]\n",
    "kashti.head(5)"
   ]
  },
  {
   "cell_type": "markdown",
   "metadata": {},
   "source": [
    "# Methods of Normalization:\n",
    "- simple feature scaling\n",
    "  - x(new)= x(old) / x(max)\n",
    "- Min-Max method\n",
    "- Z-score (Standard score) -3 to +3\n",
    "- log transformation"
   ]
  },
  {
   "cell_type": "code",
   "execution_count": null,
   "metadata": {},
   "outputs": [],
   "source": [
    "# simple feature scaling\n",
    "kashti['fare'] = kashti['fare']/kashti['fare'].max()\n",
    "kashti['age in days'] = kashti['age in days']/kashti['age in days'].max()\n",
    "kashti.head()"
   ]
  },
  {
   "cell_type": "code",
   "execution_count": null,
   "metadata": {},
   "outputs": [],
   "source": [
    "# Min-Max Method\n",
    "kashti['fare'] = (kashti['fare']-kashti['fare'].min()) / (kashti['fare'].max()-kashti['fare'].min() )\n",
    "kashti.head()"
   ]
  },
  {
   "cell_type": "code",
   "execution_count": null,
   "metadata": {},
   "outputs": [],
   "source": [
    "# Z-score method (standard score): \n",
    "kashti['fare'] = ( kashti['fare'] - kashti['fare'].mean() ) / kashti['fare'].std()\n",
    "kashti.head()"
   ]
  },
  {
   "cell_type": "code",
   "execution_count": null,
   "metadata": {},
   "outputs": [],
   "source": [
    "# log transformation:\n",
    "ks2['fare'] = np.log(ks2['fare'])\n",
    "ks2.head()"
   ]
  },
  {
   "cell_type": "markdown",
   "metadata": {},
   "source": [
    "# Binning:\n",
    "- Grouping of values into smaller No. of values\n",
    "- Convert numeric into categories (jawan, Bachy, Boorhay) or 1-16, 17-30, etc.\n",
    "- To have better understanding of grounps\n",
    "  - low vs mid vs high price."
   ]
  },
  {
   "cell_type": "code",
   "execution_count": null,
   "metadata": {},
   "outputs": [],
   "source": [
    "# bins = np.linspace(min(kashti['age']), max(kashti['age']), 15000)\n",
    "# age_groups = [\"Bachay\", \"Jawan\", \"Boorhay\"]\n",
    "# kashti['age'] = pd.cut(kashti['age'], bins, lables=age_groups, include_lowest=True)\n",
    "# kashti['age']\n",
    "# How this will change the names in dataset based on grouping? (Assignment)..."
   ]
  },
  {
   "cell_type": "markdown",
   "metadata": {},
   "source": [
    "### **converting categories into dummies**\n",
    "- easy to use for computation\n",
    "- Male Feamale (0, 1)"
   ]
  },
  {
   "cell_type": "code",
   "execution_count": null,
   "metadata": {},
   "outputs": [],
   "source": [
    "ks1.head()"
   ]
  },
  {
   "cell_type": "code",
   "execution_count": null,
   "metadata": {},
   "outputs": [],
   "source": [
    "pd.get_dummies(ks1['sex'])"
   ]
  },
  {
   "cell_type": "code",
   "execution_count": null,
   "metadata": {},
   "outputs": [],
   "source": []
  }
 ],
 "metadata": {
  "interpreter": {
   "hash": "b0005c53258b6fcee6ffaa1663e96d9c07ba59714ada43aaa68068fc684f925f"
  },
  "kernelspec": {
   "display_name": "Python 3.10.1 64-bit",
   "language": "python",
   "name": "python3"
  },
  "language_info": {
   "codemirror_mode": {
    "name": "ipython",
    "version": 3
   },
   "file_extension": ".py",
   "mimetype": "text/x-python",
   "name": "python",
   "nbconvert_exporter": "python",
   "pygments_lexer": "ipython3",
   "version": "3.10.1"
  },
  "orig_nbformat": 4
 },
 "nbformat": 4,
 "nbformat_minor": 2
}
